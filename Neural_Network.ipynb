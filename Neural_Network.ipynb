{
  "nbformat": 4,
  "nbformat_minor": 0,
  "metadata": {
    "colab": {
      "provenance": [],
      "collapsed_sections": [],
      "authorship_tag": "ABX9TyN0nNs0gT1Sk0zBFFZu6yjP",
      "include_colab_link": true
    },
    "kernelspec": {
      "name": "python3",
      "display_name": "Python 3"
    },
    "language_info": {
      "name": "python"
    }
  },
  "cells": [
    {
      "cell_type": "markdown",
      "metadata": {
        "id": "view-in-github",
        "colab_type": "text"
      },
      "source": [
        "<a href=\"https://colab.research.google.com/github/shantanuhumbe/Drumkit/blob/main/Neural_Network.ipynb\" target=\"_parent\"><img src=\"https://colab.research.google.com/assets/colab-badge.svg\" alt=\"Open In Colab\"/></a>"
      ]
    },
    {
      "cell_type": "code",
      "execution_count": 78,
      "metadata": {
        "id": "hCncKe1pCex8"
      },
      "outputs": [],
      "source": [
        "import numpy as np\n",
        "from mlxtend.data import loadlocal_mnist"
      ]
    },
    {
      "cell_type": "code",
      "source": [
        "def sigmoid(x):\n",
        "  return 1/(1+np.exp(-x))\n",
        "def sigmoid_derivative(x):\n",
        "  return x*(1-x)\n",
        "\n",
        "def loss(predicted_output,desired_output):\n",
        "  return (desired_output-predicted_output)**2/2"
      ],
      "metadata": {
        "id": "isyJivEdCwG_"
      },
      "execution_count": 79,
      "outputs": []
    },
    {
      "cell_type": "code",
      "source": [
        "from sklearn.datasets import fetch_openml\n",
        "from keras.utils.np_utils import to_categorical\n",
        "import numpy as np\n",
        "from sklearn.model_selection import train_test_split\n",
        "import time"
      ],
      "metadata": {
        "id": "c8KEwVCvbldd"
      },
      "execution_count": 80,
      "outputs": []
    },
    {
      "cell_type": "code",
      "source": [
        "features, labels = fetch_openml('mnist_784', version=1, return_X_y=True)"
      ],
      "metadata": {
        "id": "D6mOnQhZcgkL"
      },
      "execution_count": 81,
      "outputs": []
    },
    {
      "cell_type": "code",
      "source": [
        "features = (features/255).astype('float32')"
      ],
      "metadata": {
        "id": "HheTC09oc0pc"
      },
      "execution_count": 82,
      "outputs": []
    },
    {
      "cell_type": "code",
      "source": [
        "labels = to_categorical(labels)"
      ],
      "metadata": {
        "id": "58_e0aecc4cf"
      },
      "execution_count": 83,
      "outputs": []
    },
    {
      "cell_type": "code",
      "source": [
        "X_train, X_test, Y_train, Y_test = train_test_split(features, labels, test_size=0.15, random_state=37)\n",
        "print(Y_train)"
      ],
      "metadata": {
        "colab": {
          "base_uri": "https://localhost:8080/"
        },
        "id": "-XkNp8rDc8hA",
        "outputId": "71e1a4b4-d80b-46ba-d2ec-d714fd00b7d0"
      },
      "execution_count": 84,
      "outputs": [
        {
          "output_type": "stream",
          "name": "stdout",
          "text": [
            "[[0. 1. 0. ... 0. 0. 0.]\n",
            " [0. 0. 0. ... 0. 0. 1.]\n",
            " [0. 0. 1. ... 0. 0. 0.]\n",
            " ...\n",
            " [0. 0. 0. ... 0. 0. 0.]\n",
            " [1. 0. 0. ... 0. 0. 0.]\n",
            " [0. 0. 0. ... 0. 0. 0.]]\n"
          ]
        }
      ]
    },
    {
      "cell_type": "code",
      "source": [
        "class NeuralNetwork():\n",
        "  def __init__(self,inputLayerNeuronNumber,hiddenLayerNeuronNumber,outputLayerNeuronNumber):\n",
        "    self.inputLayerNeuronNumber=inputLayerNeuronNumber\n",
        "    self.hiddenLayerNeuronNumber=hiddenLayerNeuronNumber\n",
        "    self.outputLayerNeuronNumber=outputLayerNeuronNumber\n",
        "\n",
        "    self.hidden_weights=np.random.randn(self.hiddenLayerNeuronNumber,self.inputLayerNeuronNumber)*np.sqrt(2/inputLayerNeuronNumber)\n",
        "    self.hidden_bias=np.zeros([self.hiddenLayerNeuronNumber,1])\n",
        "\n",
        "    self.output_weights=np.random.randn(self.outputLayerNeuronNumber,self.hiddenLayerNeuronNumber)\n",
        "    self.output_bias=np.zeros([self.outputLayerNeuronNumber,1])\n",
        "    self.loss=[]\n",
        "    self.learning_rate=0.1\n",
        "\n",
        "  def train(self,input,desired_output):\n",
        "\n",
        "    self.hidden_layer_in=np.dot(self.hidden_weights,input)+self.hidden_bias\n",
        "    self.hidden_layer_out=sigmoid(self.hidden_layer_in)\n",
        "\n",
        "    self.output_layer_in=np.dot(self.output_weights,self.hidden_layer_out)+self.output_bias\n",
        "    self.predicted_output=sigmoid(self.output_layer_in)\n",
        "\n",
        "    self.output_error=desired_output-self.predicted_output\n",
        "    self.d_output_error=self.output_error*(sigmoid_derivative(self.predicted_output))\n",
        "\n",
        "    self.hidden_layer_error=self.d_output_error.T.dot(self.output_weights)\n",
        "    self.d_hidden_layer_error=self.hidden_layer_error.T*sigmoid_derivative(self.hidden_layer_out)\n",
        "\n",
        "    self.output_weights+=self.hidden_layer_out.dot(self.d_output_error.T).T*self.learning_rate\n",
        "    self.output_bias+=np.sum(self.d_output_error,axis=1,keepdims=True)*self.learning_rate\n",
        "\n",
        "    self.hidden_weights+=input.dot(self.d_hidden_layer_error.T).T*self.learning_rate\n",
        "    self.hidden_bias+=np.sum(self.d_hidden_layer_error,axis=1,keepdims=True)*self.learning_rate\n",
        "    self.loss.append(loss(desired_output,self.predicted_output))\n",
        "\n",
        "  def predict(self, inputs):\n",
        "      hidden_layer_in = np.dot(self.hidden_weights, inputs) + self.hidden_bias\n",
        "      hidden_layer_out = sigmoid(hidden_layer_in)\n",
        "      output_layer_in = np.dot(self.output_weights, hidden_layer_out) + self.output_bias\n",
        "      predicted_output = sigmoid(output_layer_in)\n",
        "      return predicted_output\n",
        "\n",
        "\n",
        "\n"
      ],
      "metadata": {
        "id": "3MiMPGMqDHl7"
      },
      "execution_count": 87,
      "outputs": []
    },
    {
      "cell_type": "code",
      "source": [
        "nn=NeuralNetwork(784,350,10)\n",
        "print(np.shape(X_train))\n",
        "X_train=np.array(X_train)\n",
        "Y_train=np.array(Y_train)\n",
        "for i in range(X_train.shape[0]):\n",
        "    inputs = np.array(X_train[i, :])\n",
        "    inputs=inputs.reshape(-1,1)\n",
        "    desired_output = np.array(Y_train[i, :])\n",
        "    desired_output=desired_output.reshape(np.shape(desired_output)[0],1)\n",
        "    \n",
        "    nn.train(inputs, desired_output)"
      ],
      "metadata": {
        "id": "F2mlQ94tDzHk",
        "colab": {
          "base_uri": "https://localhost:8080/"
        },
        "outputId": "2092e2d5-054d-4477-cba8-27bb1bb47e51"
      },
      "execution_count": 88,
      "outputs": [
        {
          "output_type": "stream",
          "name": "stdout",
          "text": [
            "(59500, 784)\n"
          ]
        }
      ]
    },
    {
      "cell_type": "code",
      "source": [
        "prediction_list = []\n",
        "#for i in range(X_test.shape[0]): \n",
        "    #inputs = np.array(X_test[i].reshape(-1,1))\n",
        "prediction_list.append(nn.predict(X_test.T))\n",
        "prediction_list=np.array(prediction_list)\n",
        "prediction_list=prediction_list.T\n",
        "correct_counter = 0\n",
        "for i in range(len(prediction_list)):\n",
        "    out_index = np.where(prediction_list[i] == np.amax(prediction_list[i]))[0][0]\n",
        "    \n",
        "    if Y_test[i][out_index] == 1:\n",
        "        correct_counter+=1\n",
        "\n",
        "accuracy = correct_counter/10500\n",
        "print(str(np.shape(X_test)))\n",
        "print(\"Accuracy is : \",accuracy*100,\" %\")"
      ],
      "metadata": {
        "colab": {
          "base_uri": "https://localhost:8080/"
        },
        "id": "qbKz0sdFdWj7",
        "outputId": "5d00aae5-b752-45fe-83f1-9e571a0e08d5"
      },
      "execution_count": 89,
      "outputs": [
        {
          "output_type": "stream",
          "name": "stdout",
          "text": [
            "(10500, 784)\n",
            "Accuracy is :  84.46666666666667  %\n"
          ]
        }
      ]
    },
    {
      "cell_type": "code",
      "source": [
        "print(np.shape(nn.d_hidden_layer_error))"
      ],
      "metadata": {
        "colab": {
          "base_uri": "https://localhost:8080/"
        },
        "id": "f3_mCGZSzV1z",
        "outputId": "ffdf8783-1d2a-4bc6-c67b-a63dbff857d6"
      },
      "execution_count": 90,
      "outputs": [
        {
          "output_type": "stream",
          "name": "stdout",
          "text": [
            "(350, 1)\n"
          ]
        }
      ]
    },
    {
      "cell_type": "code",
      "source": [],
      "metadata": {
        "id": "3dAAHIs6htmN"
      },
      "execution_count": null,
      "outputs": []
    }
  ]
}